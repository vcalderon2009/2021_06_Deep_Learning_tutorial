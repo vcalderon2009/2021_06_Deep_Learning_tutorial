{
 "cells": [
  {
   "cell_type": "markdown",
   "id": "31451c85-bba9-4190-a888-0bbaab71fd4f",
   "metadata": {},
   "source": [
    "# Construyendo una red neural en Pytorch\n",
    "\n",
    "Pytorch es una excelente herramienta para crear y entrenar modelos con diferentes arquitecturas.\n",
    "Por lo mismo, antes de que se desarrollara Pytorch, un podía construir redes neurales con simplemente\n",
    "paquetes básicos como `Numpy` y `math`.\n",
    "\n",
    "En la siguiente sección, veremos como desarrollar una red neural simple con los simples paquetes de Python.\n",
    "\n",
    "## Ejemplo de red neural con simplemente usando `Numpy` y Pytorch\n",
    "\n",
    "Podemos entrenar un modelo simple con la función:\n",
    "\n",
    "$$y = a + bx$$\n",
    "\n",
    "Esta función consta de 3 inputs, y nosotros queremos utilizar `Numpy` para encontrar la relación entre\n",
    "`x` e `y` utilizando la función de arriba.\n",
    "\n",
    "Para empezar, importamos nuestros módulos y creamos data aleatorea con cierto ruido:"
   ]
  },
  {
   "cell_type": "code",
   "execution_count": null,
   "id": "92446ebc-462f-4725-a2ce-72cb1c672c75",
   "metadata": {},
   "outputs": [],
   "source": [
    "# Módulos\n",
    "%matplotlib inline\n",
    "import numpy as np\n",
    "import math\n",
    "from sklearn import datasets\n",
    "import matplotlib.pyplot as plt\n",
    "import torch\n",
    "import torch.nn as nn\n",
    "\n",
    "random_state = 20"
   ]
  },
  {
   "cell_type": "markdown",
   "id": "63bf3217-b4a2-4e23-929f-7b37129ea14c",
   "metadata": {},
   "source": [
    "Y antes de cualquier cosa, inicializamos la semilla aleatorea:"
   ]
  },
  {
   "cell_type": "code",
   "execution_count": null,
   "id": "b1e55a60-675d-4ddf-b7b8-598d53efd0da",
   "metadata": {},
   "outputs": [],
   "source": [
    "np.random.seed(random_state)"
   ]
  },
  {
   "cell_type": "markdown",
   "id": "18175c04-b658-4090-b5e5-7f44710e25ba",
   "metadata": {},
   "source": [
    "Y ahora creamos una data aleatoria para el *input* y *output* del modelo:"
   ]
  },
  {
   "cell_type": "code",
   "execution_count": null,
   "id": "9a501236-e288-4caf-8ef1-6a03560a0311",
   "metadata": {},
   "outputs": [],
   "source": [
    "# Definimos los parámetros\n",
    "a_original = 10\n",
    "b_original = 0.5\n",
    "\n",
    "# Y luego creamos la data\n",
    "X_numpy = np.linspace(-10, 10, 2000)\n",
    "y_numpy = a_original + b_original * X_numpy"
   ]
  },
  {
   "cell_type": "code",
   "execution_count": null,
   "id": "8dc4d511-bc60-4a10-9927-63d92ad3fd3e",
   "metadata": {},
   "outputs": [],
   "source": [
    "#X_numpy, y_numpy, coef = datasets.make_regression(n_samples=1000, n_features=1, noise=5, random_state=random_state, coef=True)"
   ]
  },
  {
   "cell_type": "markdown",
   "id": "37ed7941-f0f6-433a-ab1c-249346f14507",
   "metadata": {},
   "source": [
    "Y podemos ver esta data:"
   ]
  },
  {
   "cell_type": "code",
   "execution_count": null,
   "id": "07eb84cc-2b09-4f9f-85c2-f0639566a696",
   "metadata": {},
   "outputs": [],
   "source": [
    "fig = plt.figure(figsize=(8,8), facecolor=\"white\")\n",
    "ax = fig.add_subplot(111)\n",
    "ax.scatter(X_numpy, y_numpy, c=\"blue\")\n",
    "ax.set_aspect('equal')\n",
    "ax.set_xlabel(\"X\")\n",
    "ax.set_ylabel(\"Y\")"
   ]
  },
  {
   "cell_type": "markdown",
   "id": "f8a7de5e-6729-4f40-bfeb-7babaf326a74",
   "metadata": {},
   "source": [
    "Lo que queremos lograr es que nuestro modelo pueda aprender la relación de la data y ver que tan bién puede\n",
    "representar la función lineal de esta data. Los pasos a seguir son los siguientes:\n",
    "\n",
    "1. Inicializar la pesas aleatoreamente\n",
    "2. Especificar parámetros como la *velocidad de aprendizaje* (learning rate) del modelo, el número de épocas, etc.\n",
    "3. Calcular la predicción del modelo\n",
    "4. Comparar con la verdad y calcular la función de pérdida\n",
    "5. Empezar con el \"backpropagation\", i.e. calculando las derivadas de la función de perdida con respecto a los coeficientes de la función.\n",
    "6. Modificar las pesas y empezar de nuevo"
   ]
  },
  {
   "cell_type": "code",
   "execution_count": null,
   "id": "5db04fd4-b0f3-4f89-aba9-77c4be4d2f4e",
   "metadata": {},
   "outputs": [],
   "source": [
    "# Inicializando pesas aleatoreas\n",
    "a_weight = np.random.randn()\n",
    "b_weight = np.random.randn()\n",
    "\n",
    "print(f\">>> a: `{a_weight}` | b: `{a_weight}`\")"
   ]
  },
  {
   "cell_type": "markdown",
   "id": "51f3a801-dfcd-4aa9-ac94-329e152555bb",
   "metadata": {},
   "source": [
    "Luego el valor de la velocidad de aprendizaje (learning rate) y el número de épocas:"
   ]
  },
  {
   "cell_type": "code",
   "execution_count": null,
   "id": "02f7536a-66d1-4ce7-bb3e-1c974f11f749",
   "metadata": {},
   "outputs": [],
   "source": [
    "# Learning rate\n",
    "learning_rate = 1e-6\n",
    "\n",
    "# Número de épocas:\n",
    "n_epoch = 2000"
   ]
  },
  {
   "cell_type": "markdown",
   "id": "15f704ef-309e-40f1-a13d-696069bb78b8",
   "metadata": {},
   "source": [
    "Y ahora estamos listos para empezar con el entrenamiento del modelo:"
   ]
  },
  {
   "cell_type": "code",
   "execution_count": null,
   "id": "9417f9a6-e2fc-45f9-9699-7aab20ea5a1b",
   "metadata": {},
   "outputs": [],
   "source": [
    "# Iterando sobre cada época\n",
    "for epoch_ii in range(n_epoch):\n",
    "    # Iniciamos con el \"forward pass\" para predecir `y_pred`\n",
    "    y_pred = a_weight + b_weight * X_numpy\n",
    "    \n",
    "    # Luego calculamos la función de pérdida\n",
    "    # En este caso, la definimos como SUM[(y_pred - y_true)^2]\n",
    "    # Esta función es la que se tratará de minimizar en cada iteración\n",
    "    loss_val = np.sum(np.square(y_pred - y_numpy))\n",
    "    #\n",
    "    if epoch_ii % 200 == 0:\n",
    "        print(\"Epoch: {0} | Loss: {1}\".format(epoch_ii, loss_val))\n",
    "    \n",
    "    # Y ahora podemos ajustar las pesas con respecto a la función de pérdida\n",
    "    # Esto es lo mismo que:\n",
    "    #     d(loss)/d(y_pred) = d((y_pred - y_true)^2) = 2 * (y_pred - y)\n",
    "    grad_y_pred = 2 * (y_pred - y_numpy)\n",
    "    # Y ahora calculamos la derivada de las variables referente a la función de pérdida\n",
    "    grad_a = grad_y_pred.sum()\n",
    "    grad_b = (grad_y_pred * X_numpy).sum()\n",
    "    \n",
    "    # Y por último podemos ahora actualizar las pesas y empezar de nuevo\n",
    "    a_weight -= learning_rate * grad_a\n",
    "    b_weight -= learning_rate * grad_b"
   ]
  },
  {
   "cell_type": "markdown",
   "id": "d2cf6ea5-e4e8-42e0-aebf-4a844ae32bc7",
   "metadata": {},
   "source": [
    "Y ahora podemos visualizar la comparar los valores que obtuvimos con los que\n",
    "son en realidad los valores correctos:"
   ]
  },
  {
   "cell_type": "code",
   "execution_count": null,
   "id": "7be689b0-e325-433d-a266-b0f1ba43e37b",
   "metadata": {},
   "outputs": [],
   "source": [
    "# Ya que ha terminado de aprender este \"modelo\", podemos verificar los\n",
    "# resultados:\n",
    "\n",
    "print(f\">>> Predicción: y = {a_weight} + {b_weight} x\")\n",
    "print(f\">>> Realidad  : y = {a_original} + {b_original} x\")"
   ]
  },
  {
   "cell_type": "markdown",
   "id": "e25b84e8-0f82-4a56-bb60-1fb14e523ec6",
   "metadata": {},
   "source": [
    "Esto muestra que uno puede utilizar estos simples métodos para encontrar los coeficientes\n",
    "de una función, que en este caso es linear.\n",
    "\n",
    "### Mismo modelo pero en Pytorch\n",
    "\n",
    "Ahora podemos hacer el mismo procedimiento, pero utilizando Pytorch para esto:"
   ]
  },
  {
   "cell_type": "code",
   "execution_count": null,
   "id": "34203408-a8a6-495c-95cf-6d859ee7b953",
   "metadata": {},
   "outputs": [],
   "source": [
    "# Inicializamos los tensores de entrada y salida\n",
    "X_tensor = torch.from_numpy(X_numpy.astype(np.float32))\n",
    "y_tensor = torch.from_numpy(y_numpy.astype(np.float32))\n",
    "\n",
    "# Y modificamos la forma de `y_tensor`\n",
    "X_tensor = X_tensor.view(y_tensor.shape[0], 1)\n",
    "y_tensor = y_tensor.view(y_tensor.shape[0], 1)"
   ]
  },
  {
   "cell_type": "code",
   "execution_count": null,
   "id": "ec8800e9-c9fa-4de0-8eaa-5be897296991",
   "metadata": {},
   "outputs": [],
   "source": [
    "print(X_tensor)"
   ]
  },
  {
   "cell_type": "code",
   "execution_count": null,
   "id": "c6e3c703-51df-47eb-8a08-ccdfe3ad0feb",
   "metadata": {},
   "outputs": [],
   "source": [
    "print(y_tensor)"
   ]
  },
  {
   "cell_type": "markdown",
   "id": "fcaa3f4a-1058-4e99-95da-a8ee7de29a7f",
   "metadata": {},
   "source": [
    "Ahora podemos definir las variables de elementos y de \"features\":"
   ]
  },
  {
   "cell_type": "code",
   "execution_count": null,
   "id": "261c618a-2a30-4931-a15e-8e34b0aa0b80",
   "metadata": {},
   "outputs": [],
   "source": [
    "n_samples, n_features = X_tensor.shape\n",
    "\n",
    "print(f\"Número of elementos: {n_samples} | Número de features: {n_features}\")"
   ]
  },
  {
   "cell_type": "markdown",
   "id": "e05a4398-cb31-461e-b965-eea2660d76cd",
   "metadata": {},
   "source": [
    "Lo siguientes pasos son para:\n",
    "\n",
    "1. Crear el modelo lineal\n",
    "2. Definir los parámetros y criterios\n",
    "3. Utilizar un optimizador\n",
    "4. Y por último, entrenar el modelo por un cierto número de épocas"
   ]
  },
  {
   "cell_type": "markdown",
   "id": "ecdcabee-37a9-4909-b1ad-c94a86631007",
   "metadata": {},
   "source": [
    "#### Modelo\n",
    "\n",
    "El modelo es un modelo lineal:"
   ]
  },
  {
   "cell_type": "code",
   "execution_count": null,
   "id": "30ca45aa-6ddd-43fc-9f2a-cf615f1cff0f",
   "metadata": {},
   "outputs": [],
   "source": [
    "# Modelo linear: f = wx + b\n",
    "input_size = n_features\n",
    "output_size = 1\n",
    "\n",
    "# Definimos el modelo acá\n",
    "model = nn.Linear(input_size, output_size)"
   ]
  },
  {
   "cell_type": "markdown",
   "id": "34bc2def-7f9a-4ad1-8ced-5ccec2fbd74c",
   "metadata": {},
   "source": [
    "#### Parámetros del modelo\n",
    "\n",
    "En esta parte, decidimos cuáles son los valores de los hyper-parámetros del modelo:"
   ]
  },
  {
   "cell_type": "code",
   "execution_count": null,
   "id": "23b812a0-9246-4874-a1d7-19c8f3b0e067",
   "metadata": {},
   "outputs": [],
   "source": [
    "# Velocidad de aprendizaje\n",
    "learning_rate = 0.01\n",
    "\n",
    "# Función de pérdida\n",
    "criterion = nn.MSELoss()\n",
    "\n",
    "# Optimizador\n",
    "optimizer = torch.optim.SGD(model.parameters(), lr=learning_rate)"
   ]
  },
  {
   "cell_type": "markdown",
   "id": "b021fb7f-0ccd-4a5f-a180-05595afd71f5",
   "metadata": {},
   "source": [
    "#### Entrenar el modelo\n",
    "\n",
    "Ya por último, vamos a entrenar el modelo:"
   ]
  },
  {
   "cell_type": "code",
   "execution_count": null,
   "id": "95f83188-1625-4289-8838-1cf91ab2a299",
   "metadata": {},
   "outputs": [],
   "source": [
    "num_epochs = 10\n",
    "for epoch in range(num_epochs):\n",
    "    # Forward pass and loss\n",
    "    y_predicted = model(X_tensor)\n",
    "    loss = criterion(y_predicted, y_tensor)\n",
    "    \n",
    "    # Backward pass and update\n",
    "    loss.backward()\n",
    "    optimizer.step()\n",
    "\n",
    "    # zero grad before new step\n",
    "    optimizer.zero_grad()\n",
    "\n",
    "    if (epoch+1) % 10 == 0:\n",
    "        print(f'epoch: {epoch+1}, loss = {loss.item():.4f}')"
   ]
  },
  {
   "cell_type": "markdown",
   "id": "ed78b0f7-1c03-4233-b231-a075b662c19a",
   "metadata": {},
   "source": [
    "#### Verificación de los datos\n",
    "\n",
    "Es en esta parte donde podemos ver que tan bién se ejecutó el entrenamiento del modelo:"
   ]
  },
  {
   "cell_type": "code",
   "execution_count": null,
   "id": "5e79d848-1772-489b-afbf-10674a4006bb",
   "metadata": {},
   "outputs": [],
   "source": [
    "# Plot\n",
    "predicted = model(X_tensor).detach().numpy()\n",
    "\n",
    "predicted"
   ]
  },
  {
   "cell_type": "code",
   "execution_count": null,
   "id": "ab04f9c6-204d-4d6a-957e-f148f13159bc",
   "metadata": {},
   "outputs": [],
   "source": [
    "plt.plot(X_numpy, y_numpy, 'ro')\n",
    "plt.plot(X_numpy, predicted, 'b')\n",
    "plt.show()"
   ]
  },
  {
   "cell_type": "code",
   "execution_count": null,
   "id": "c1f4b18a-6769-4234-bc60-e94407934751",
   "metadata": {},
   "outputs": [],
   "source": []
  },
  {
   "cell_type": "code",
   "execution_count": null,
   "id": "9e8a0318-a27a-4a4f-a89a-01209d129861",
   "metadata": {},
   "outputs": [],
   "source": []
  }
 ],
 "metadata": {
  "kernelspec": {
   "display_name": "Python 3",
   "language": "python",
   "name": "python3"
  },
  "language_info": {
   "codemirror_mode": {
    "name": "ipython",
    "version": 3
   },
   "file_extension": ".py",
   "mimetype": "text/x-python",
   "name": "python",
   "nbconvert_exporter": "python",
   "pygments_lexer": "ipython3",
   "version": "3.7.9"
  }
 },
 "nbformat": 4,
 "nbformat_minor": 5
}
